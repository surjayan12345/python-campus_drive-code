{
 "cells": [
  {
   "cell_type": "code",
   "execution_count": 1,
   "id": "2c383cd2",
   "metadata": {},
   "outputs": [
    {
     "name": "stdout",
     "output_type": "stream",
     "text": [
      "The gcd of 60 and 48 is : 12\n"
     ]
    }
   ],
   "source": [
    "#GCD of two numbers\n",
    "\n",
    "# Python code to demonstrate the working of gcd()\n",
    "# importing \"math\" for mathematical operations\n",
    "\n",
    "import math\n",
    "  \n",
    "# prints 12\n",
    "\n",
    "print(\"The gcd of 60 and 48 is : \", end=\"\")\n",
    "print(math.gcd(60, 48))"
   ]
  },
  {
   "cell_type": "code",
   "execution_count": 2,
   "id": "5aa44e9b",
   "metadata": {},
   "outputs": [
    {
     "name": "stdout",
     "output_type": "stream",
     "text": [
      "The gcd of 60 and 48 is : 12\n"
     ]
    }
   ],
   "source": [
    "# Python code to demonstrate naive\n",
    "# method to compute gcd ( recursion )\n",
    "  \n",
    "  \n",
    "def hcf(a, b):\n",
    "    if(b == 0):\n",
    "        return a\n",
    "    else:\n",
    "        return hcf(b, a % b)\n",
    "  \n",
    "a = 60\n",
    "b = 48\n",
    "  \n",
    "# prints 12\n",
    "print(\"The gcd of 60 and 48 is : \", end=\"\")\n",
    "print(hcf(60, 48))"
   ]
  },
  {
   "cell_type": "code",
   "execution_count": 3,
   "id": "da519b19",
   "metadata": {},
   "outputs": [
    {
     "name": "stdout",
     "output_type": "stream",
     "text": [
      "The H.C.F. is 6\n"
     ]
    }
   ],
   "source": [
    "# Python program to find H.C.F of two numbers\n",
    "\n",
    "# define a function\n",
    "def compute_hcf(x, y):\n",
    "\n",
    "# choose the smaller number\n",
    "    if x > y:\n",
    "        smaller = y\n",
    "    else:\n",
    "        smaller = x\n",
    "    for i in range(1, smaller+1):\n",
    "        if((x % i == 0) and (y % i == 0)):\n",
    "            hcf = i \n",
    "    return hcf\n",
    "\n",
    "num1 = 54 \n",
    "num2 = 24\n",
    "\n",
    "print(\"The H.C.F. is\", compute_hcf(num1, num2))"
   ]
  },
  {
   "cell_type": "code",
   "execution_count": 4,
   "id": "741319ea",
   "metadata": {},
   "outputs": [
    {
     "name": "stdout",
     "output_type": "stream",
     "text": [
      "The HCF is 100\n"
     ]
    }
   ],
   "source": [
    "# Function to find HCF the Using Euclidian algorithm\n",
    "def compute_hcf(x, y):\n",
    "   while(y):\n",
    "       x, y = y, x % y\n",
    "   return x\n",
    "\n",
    "hcf = compute_hcf(300, 400)\n",
    "print(\"The HCF is\", hcf)"
   ]
  },
  {
   "cell_type": "code",
   "execution_count": 5,
   "id": "bf0ecbd7",
   "metadata": {},
   "outputs": [
    {
     "name": "stdout",
     "output_type": "stream",
     "text": [
      "54\n",
      "45\n",
      "9\n"
     ]
    }
   ],
   "source": [
    "# Python Program to find GCD of Two Numbers a temp variable\n",
    "num1 = int(input())\n",
    "num2 = int(input())\n",
    "a = num1\n",
    "b = num2\n",
    "while(num2 != 0):\n",
    "# swap using temp variable\n",
    "  temp = num2\n",
    "  num2 = num1 % num2\n",
    "  num1 = temp\n",
    "gcd = num1\n",
    "print(gcd)"
   ]
  },
  {
   "cell_type": "code",
   "execution_count": 10,
   "id": "3cdb0692",
   "metadata": {},
   "outputs": [
    {
     "name": "stdout",
     "output_type": "stream",
     "text": [
      "50\n",
      "40\n",
      "10\n"
     ]
    }
   ],
   "source": [
    "#Python Program to find GCD of Two Numbers using Recursion\n",
    "def gcd(a,b):\n",
    "    if(b==0):\n",
    "        return a\n",
    "    else:\n",
    "        return gcd(b,a%b)\n",
    "a=int(input())\n",
    "b=int(input())\n",
    "GCD=gcd(a,b)\n",
    "print(GCD)"
   ]
  },
  {
   "cell_type": "code",
   "execution_count": 11,
   "id": "116fc13f",
   "metadata": {},
   "outputs": [
    {
     "name": "stdout",
     "output_type": "stream",
     "text": [
      "Enter the number: 5\n",
      "           1 \n",
      "          1      1 \n",
      "         1      2      1 \n",
      "        1      3      3      1 \n",
      "       1      4      6      4      1 \n"
     ]
    }
   ],
   "source": [
    "# Python program to print pascal's triangle\n",
    "\n",
    "\n",
    "n = int(input(\"Enter the number: \"))\n",
    "a = [] #an empty list\n",
    "for i in range(n):\n",
    "  a.append([])\n",
    "  a[i].append(1)\n",
    "  for j in range(1, i):\n",
    "    a[i].append(a[i - 1][j - 1] + a[i - 1][j])\n",
    "  if(n != 0):\n",
    "    a[i].append(1)\n",
    "for i in range(n):\n",
    "  print(\" \" * (n - i), end = \" \", sep = \" \")\n",
    "  for j in range(0, i + 1):\n",
    "    print('{0:6}'.format(a[i][j]), end = \" \", sep = \" \")\n",
    "  print()"
   ]
  },
  {
   "cell_type": "code",
   "execution_count": 12,
   "id": "dfe479d3",
   "metadata": {},
   "outputs": [
    {
     "name": "stdout",
     "output_type": "stream",
     "text": [
      "      1 \n",
      "     1 1 \n",
      "    1 2 1 \n",
      "   1 3 3 1 \n",
      "  1 4 6 4 1 \n"
     ]
    }
   ],
   "source": [
    "from math import factorial\n",
    " \n",
    "# input n\n",
    "n = 5\n",
    "for i in range(n):\n",
    "    for j in range(n-i+1):\n",
    " \n",
    "        # for left spacing\n",
    "        print(end=\" \")\n",
    " \n",
    "    for j in range(i+1):\n",
    " \n",
    "        # nCr = n!/((n-r)!*r!)\n",
    "        print(factorial(i)//(factorial(j)*factorial(i-j)), end=\" \")\n",
    " \n",
    "    # for new line\n",
    "    print()"
   ]
  },
  {
   "cell_type": "code",
   "execution_count": 13,
   "id": "b582e29e",
   "metadata": {},
   "outputs": [
    {
     "name": "stdout",
     "output_type": "stream",
     "text": [
      "Standard Deviation of sample is 1.5811388300841898 \n"
     ]
    }
   ],
   "source": [
    "# Python code to demonstrate stdev() function\n",
    " \n",
    "# importing Statistics module\n",
    "import statistics\n",
    " \n",
    "# creating a simple data - set\n",
    "sample = [1, 2, 3, 4, 5]\n",
    " \n",
    "# Prints standard deviation\n",
    "# xbar is set to default value of 1\n",
    "print(\"Standard Deviation of sample is % s \"\n",
    "                % (statistics.stdev(sample)))"
   ]
  },
  {
   "cell_type": "code",
   "execution_count": 14,
   "id": "23e1576c",
   "metadata": {},
   "outputs": [
    {
     "name": "stdout",
     "output_type": "stream",
     "text": [
      "The Standard Deviation of Sample1 is 3.9761191895520196\n",
      "The Standard Deviation of Sample2 is 1.8708286933869707\n",
      "The Standard Deviation of Sample3 is 7.8182478855559445\n",
      "The Standard Deviation of Sample4 is 0.41967844833872525\n"
     ]
    }
   ],
   "source": [
    "# importing the statistics module\n",
    "from statistics import stdev\n",
    " \n",
    "# importing fractions as parameter values\n",
    "from fractions import Fraction as fr\n",
    " \n",
    "# creating a varying range of sample sets\n",
    "# numbers are spread apart but not very much\n",
    "sample1 = (1, 2, 5, 4, 8, 9, 12)\n",
    " \n",
    "# tuple of a set of negative integers\n",
    "sample2 = (-2, -4, -3, -1, -5, -6)\n",
    " \n",
    "# tuple of a set of positive and negative numbers\n",
    "# data-points are spread apart considerably\n",
    "sample3 = (-9, -1, -0, 2, 1, 3, 4, 19)\n",
    " \n",
    "# tuple of a set of floating point values\n",
    "sample4 = (1.23, 1.45, 2.1, 2.2, 1.9)\n",
    " \n",
    "# Print the standard deviation of \n",
    "# following sample sets of observations\n",
    "print(\"The Standard Deviation of Sample1 is % s\"\n",
    "                              %(stdev(sample1)))\n",
    "                               \n",
    "print(\"The Standard Deviation of Sample2 is % s\"\n",
    "                              %(stdev(sample2)))\n",
    "                               \n",
    "print(\"The Standard Deviation of Sample3 is % s\"\n",
    "                              %(stdev(sample3)))\n",
    "                               \n",
    "                               \n",
    "print(\"The Standard Deviation of Sample4 is % s\"\n",
    "                              %(stdev(sample4)))"
   ]
  },
  {
   "cell_type": "code",
   "execution_count": 15,
   "id": "02366cd5",
   "metadata": {},
   "outputs": [
    {
     "name": "stdout",
     "output_type": "stream",
     "text": [
      "Standard Deviation of the sample is 1.5811388300841898 \n",
      "Variance of the sample is 2.5\n"
     ]
    }
   ],
   "source": [
    "# Python code to demonstrate difference\n",
    "# in results of stdev() and variance()\n",
    " \n",
    "# importing Statistics module\n",
    "import statistics\n",
    " \n",
    "# creating a simple data-set\n",
    "sample = [1, 2, 3, 4, 5]\n",
    " \n",
    "# Printing standard deviation\n",
    "# xbar is set to default value of 1\n",
    "print(\"Standard Deviation of the sample is % s \"\n",
    "                    %(statistics.stdev(sample)))\n",
    " \n",
    "# variance is approximately the\n",
    "# squared result of what stdev is\n",
    "print(\"Variance of the sample is % s\"\n",
    "     %(statistics.variance(sample)))"
   ]
  },
  {
   "cell_type": "code",
   "execution_count": 16,
   "id": "2f22c1cb",
   "metadata": {},
   "outputs": [
    {
     "name": "stdout",
     "output_type": "stream",
     "text": [
      "Mean of data set 1 is 5.857142857142857\n",
      "Mean of data set 2 is -7.5\n",
      "Mean of data set 3 is 2.4285714285714284\n",
      "Mean of data set 4 is 49/24\n",
      "Mean of data set 5 is 2\n"
     ]
    }
   ],
   "source": [
    "# Python program to demonstrate mean()\n",
    "# function from the statistics module\n",
    "  \n",
    "# Importing the statistics module\n",
    "from statistics import mean\n",
    "  \n",
    "# Importing fractions module as fr\n",
    "# Enables to calculate mean of a \n",
    "# set in Fraction \n",
    "from fractions import Fraction as fr\n",
    "  \n",
    "  \n",
    "# tuple of positive integer numbers\n",
    "data1 = (11, 3, 4, 5, 7, 9, 2)\n",
    "  \n",
    "# tuple of a negative set of integers\n",
    "data2 = (-1, -2, -4, -7, -12, -19)\n",
    "  \n",
    "# tuple of mixed range of numbers\n",
    "data3 = (-1, -13, -6, 4, 5, 19, 9)\n",
    "  \n",
    "# tuple of a set of fractional numbers\n",
    "data4 = (fr(1, 2), fr(44, 12), fr(10, 3), fr(2, 3))\n",
    "  \n",
    "# dictionary of a set of values\n",
    "# Only the keys are taken in\n",
    "# consideration by mean()\n",
    "data5 = {1:\"one\", 2:\"two\", 3:\"three\"}\n",
    "  \n",
    "  \n",
    "# Printing the mean of above datsets\n",
    "print(\"Mean of data set 1 is % s\" % (mean(data1)))\n",
    "print(\"Mean of data set 2 is % s\" % (mean(data2)))\n",
    "print(\"Mean of data set 3 is % s\" % (mean(data3)))\n",
    "print(\"Mean of data set 4 is % s\" % (mean(data4)))\n",
    "print(\"Mean of data set 5 is % s\" % (mean(data5)))"
   ]
  },
  {
   "cell_type": "code",
   "execution_count": 17,
   "id": "fedf50f8",
   "metadata": {},
   "outputs": [
    {
     "name": "stdout",
     "output_type": "stream",
     "text": [
      "1000\n",
      "10010\n",
      "111\n"
     ]
    }
   ],
   "source": [
    "# Python program to convert decimal to binary\n",
    "   \n",
    "# Function to convert Decimal number\n",
    "# to Binary number\n",
    "def decimalToBinary(n):\n",
    "    return \"{0:b}\".format(int(n))\n",
    "   \n",
    "# Driver code\n",
    "if __name__ == '__main__':\n",
    "    print(decimalToBinary(8))\n",
    "    print(decimalToBinary(18))\n",
    "    print(decimalToBinary(7))"
   ]
  },
  {
   "cell_type": "code",
   "execution_count": 18,
   "id": "d96bc6e3",
   "metadata": {},
   "outputs": [
    {
     "name": "stdout",
     "output_type": "stream",
     "text": [
      "100010\n"
     ]
    }
   ],
   "source": [
    "# Function to print binary number using recursion\n",
    "def convertToBinary(n):\n",
    "   if n > 1:\n",
    "       convertToBinary(n//2)\n",
    "   print(n % 2,end = '')\n",
    "\n",
    "# decimal number\n",
    "dec = 34\n",
    "\n",
    "convertToBinary(dec)\n",
    "print()"
   ]
  },
  {
   "cell_type": "code",
   "execution_count": 19,
   "id": "cd442e58",
   "metadata": {},
   "outputs": [
    {
     "name": "stdout",
     "output_type": "stream",
     "text": [
      "Dechimal numbers:\n",
      "[0, 15, 30, 55, 355, 656, 896, 1125]\n",
      "\n",
      "Hexadechimal numbers of the said dechimal numbers:\n",
      "['0', 'F', '1E', '37', '163', '290', '380', '465']\n"
     ]
    }
   ],
   "source": [
    "#decimal to hexadecimal\n",
    "\n",
    "\n",
    "def dechimal_to_Hex(n):   \n",
    "   x = (n % 16)\n",
    "   ch = \"\"\n",
    "   if (x < 10):\n",
    "       ch = x\n",
    "   if (x == 10):\n",
    "       ch = \"A\"\n",
    "   if (x == 11):\n",
    "       ch = \"B\"\n",
    "   if (x == 12):\n",
    "       ch = \"ch\"\n",
    "   if (x == 13):\n",
    "       ch = \"D\"\n",
    "   if (x == 14):\n",
    "       ch = \"E\"\n",
    "   if (x == 15):\n",
    "       ch = \"F\"\n",
    "   if (n - x != 0):\n",
    "       return dechimal_to_Hex(n // 16) + str(ch)\n",
    "   else:\n",
    "       return str(ch)\n",
    "dechimal_nums = [0, 15, 30, 55, 355, 656, 896, 1125]\n",
    "print(\"Dechimal numbers:\")\n",
    "print(dechimal_nums)\n",
    "print(\"\\nHexadechimal numbers of the said dechimal numbers:\")\n",
    "print([dechimal_to_Hex(x) for x in dechimal_nums])"
   ]
  },
  {
   "cell_type": "code",
   "execution_count": 20,
   "id": "86ab8415",
   "metadata": {},
   "outputs": [
    {
     "name": "stdout",
     "output_type": "stream",
     "text": [
      "The decimal value of 344 is:\n",
      "0b101011000 in binary.\n",
      "0o530 in octal.\n",
      "0x158 in hexadecimal.\n"
     ]
    }
   ],
   "source": [
    "#easy method\n",
    "\n",
    "\n",
    "dec = 344\n",
    "\n",
    "print(\"The decimal value of\", dec, \"is:\")\n",
    "print(bin(dec), \"in binary.\")\n",
    "print(oct(dec), \"in octal.\")\n",
    "print(hex(dec), \"in hexadecimal.\")\n"
   ]
  },
  {
   "cell_type": "code",
   "execution_count": 28,
   "id": "76995fdd",
   "metadata": {},
   "outputs": [
    {
     "name": "stdout",
     "output_type": "stream",
     "text": [
      "3\n",
      "3\n",
      "5\n",
      "7\n"
     ]
    }
   ],
   "source": [
    "# Python program to print prime factors\n",
    " \n",
    "import math\n",
    " \n",
    "# A function to print all prime factors of\n",
    "# a given number n\n",
    "def primeFactors(n):\n",
    "     \n",
    "    # Print the number of two's that divide n\n",
    "    while n % 2 == 0:\n",
    "          print (2),\n",
    "          n = n / 2\n",
    "         \n",
    "    # n must be odd at this point\n",
    "    # so a skip of 2 ( i = i + 2) can be used\n",
    "    for i in range(3,int(math.sqrt(n))+1,2):\n",
    "         \n",
    "        # while i divides n , print i ad divide n\n",
    "        while n % i== 0:\n",
    "            print (i),\n",
    "            n = n / i\n",
    "             \n",
    "    # Condition if n is a prime\n",
    "    # number greater than 2\n",
    "    if n > 2:\n",
    "        print (n)\n",
    "         \n",
    "# Driver Program to test above function\n",
    " \n",
    "n = 315\n",
    "primeFactors(n)"
   ]
  },
  {
   "cell_type": "code",
   "execution_count": 29,
   "id": "d6730a9d",
   "metadata": {},
   "outputs": [
    {
     "name": "stdout",
     "output_type": "stream",
     "text": [
      "2\n",
      "2\n",
      "2\n",
      "5\n",
      "5\n"
     ]
    }
   ],
   "source": [
    "# Python program to print prime factors\n",
    "import math\n",
    "# prime\n",
    "def primeFactors(n):\n",
    "   # no of even divisibility\n",
    "   while n % 2 == 0:\n",
    "      print (2),\n",
    "      n = n / 2\n",
    "   # n reduces to become odd\n",
    "   for i in range(3,int(math.sqrt(n))+1,2):\n",
    "      # while i divides n\n",
    "      while n % i== 0:\n",
    "         print (i)\n",
    "         n = n / i\n",
    "   # if n is a prime\n",
    "   if n > 2:\n",
    "      print (n)\n",
    "n = 200\n",
    "primeFactors(n)"
   ]
  },
  {
   "cell_type": "code",
   "execution_count": 30,
   "id": "4da2343e",
   "metadata": {},
   "outputs": [
    {
     "name": "stdout",
     "output_type": "stream",
     "text": [
      "The L.C.M. is 216\n"
     ]
    }
   ],
   "source": [
    "# Python Program to find the L.C.M. of two input number\n",
    "\n",
    "def compute_lcm(x, y):\n",
    "\n",
    "   # choose the greater number\n",
    "   if x > y:\n",
    "       greater = x\n",
    "   else:\n",
    "       greater = y\n",
    "\n",
    "   while(True):\n",
    "       if((greater % x == 0) and (greater % y == 0)):\n",
    "           lcm = greater\n",
    "           break\n",
    "       greater += 1\n",
    "\n",
    "   return lcm\n",
    "\n",
    "num1 = 54\n",
    "num2 = 24\n",
    "\n",
    "print(\"The L.C.M. is\", compute_lcm(num1, num2))"
   ]
  },
  {
   "cell_type": "code",
   "execution_count": 31,
   "id": "d9172750",
   "metadata": {},
   "outputs": [
    {
     "name": "stdout",
     "output_type": "stream",
     "text": [
      "LCM of 15 and 20 is 60.0\n"
     ]
    }
   ],
   "source": [
    "# Python program to find LCM of two numbers\n",
    " \n",
    "# Recursive function to return gcd of a and b\n",
    "def gcd(a,b):\n",
    "    if a == 0:\n",
    "        return b\n",
    "    return gcd(b % a, a)\n",
    " \n",
    "# Function to return LCM of two numbers\n",
    "def lcm(a,b):\n",
    "    return (a / gcd(a,b))* b\n",
    " \n",
    "# Driver program to test above function\n",
    "a = 15\n",
    "b = 20\n",
    "print('LCM of', a, 'and', b, 'is', lcm(a, b))\n",
    " "
   ]
  },
  {
   "cell_type": "code",
   "execution_count": 38,
   "id": "37d39c81",
   "metadata": {},
   "outputs": [
    {
     "name": "stdout",
     "output_type": "stream",
     "text": [
      "2 3 4 5 6 "
     ]
    }
   ],
   "source": [
    "# Python 3 Program to\n",
    "# print an arithmetic\n",
    "# progression series\n",
    "def printAP(a,d,n):\n",
    " \n",
    "      # Printing AP by simply adding d\n",
    "      # to previous term.\n",
    "      \n",
    "    curr_term=a\n",
    "    for i in range(1,n+1):\n",
    "        print(curr_term, end=' ')\n",
    "        curr_term =curr_term + d\n",
    "          \n",
    " \n",
    "# Driver code\n",
    "a = 2    # starting number\n",
    "d = 1    # Common difference\n",
    "n = 5    # N th term to be find\n",
    " \n",
    "printAP(a, d, n)"
   ]
  },
  {
   "cell_type": "code",
   "execution_count": 39,
   "id": "9685c1c5",
   "metadata": {},
   "outputs": [
    {
     "name": "stdout",
     "output_type": "stream",
     "text": [
      "Please Enter First Number of an A.P Series: : 2\n",
      "Please Enter the Total Numbers in this A.P Series: : 10\n",
      "Please Enter the Common Difference : 2\n",
      "\n",
      "The Sum of Arithmetic Progression Series =  110.0\n",
      "The tn Term of Arithmetic Progression Series =  20\n"
     ]
    }
   ],
   "source": [
    "# Python Program to find Sum of Arithmetic Progression Series\n",
    "\n",
    "a = int(input(\"Please Enter First Number of an A.P Series: : \"))\n",
    "n = int(input(\"Please Enter the Total Numbers in this A.P Series: : \"))\n",
    "d = int(input(\"Please Enter the Common Difference : \"))\n",
    "\n",
    "total = (n * (2 * a + (n - 1) * d)) / 2\n",
    "tn = a + (n - 1) * d\n",
    "\n",
    "print(\"\\nThe Sum of Arithmetic Progression Series = \" , total)\n",
    "print(\"The tn Term of Arithmetic Progression Series = \" , tn)"
   ]
  },
  {
   "cell_type": "code",
   "execution_count": 40,
   "id": "e9694cf9",
   "metadata": {},
   "outputs": [
    {
     "name": "stdout",
     "output_type": "stream",
     "text": [
      "Sorted array is:\n",
      "5\n",
      "6\n",
      "11\n",
      "12\n",
      "13\n"
     ]
    }
   ],
   "source": [
    "# Python program for implementation of Insertion Sort\n",
    "  \n",
    "# Function to do insertion sort\n",
    "def insertionSort(arr):\n",
    "  \n",
    "    # Traverse through 1 to len(arr)\n",
    "    for i in range(1, len(arr)):\n",
    "  \n",
    "        key = arr[i]\n",
    "  \n",
    "        # Move elements of arr[0..i-1], that are\n",
    "        # greater than key, to one position ahead\n",
    "        # of their current position\n",
    "        j = i-1\n",
    "        while j >=0 and key < arr[j] :\n",
    "                arr[j+1] = arr[j]\n",
    "                j -= 1\n",
    "        arr[j+1] = key\n",
    "  \n",
    "  \n",
    "# Driver code to test above\n",
    "arr = [12, 11, 13, 5, 6]\n",
    "insertionSort(arr)\n",
    "print (\"Sorted array is:\")\n",
    "for i in range(len(arr)):\n",
    "    print (\"%d\" %arr[i])"
   ]
  },
  {
   "cell_type": "code",
   "execution_count": 41,
   "id": "656d050c",
   "metadata": {},
   "outputs": [
    {
     "name": "stdout",
     "output_type": "stream",
     "text": [
      "Sorted array\n",
      "11\n",
      "12\n",
      "22\n",
      "25\n",
      "64\n"
     ]
    }
   ],
   "source": [
    "# Python program for implementation of Selection\n",
    "# Sort\n",
    "import sys\n",
    "A = [64, 25, 12, 22, 11]\n",
    "  \n",
    "# Traverse through all array elements\n",
    "for i in range(len(A)):\n",
    "      \n",
    "    # Find the minimum element in remaining \n",
    "    # unsorted array\n",
    "    min_idx = i\n",
    "    for j in range(i+1, len(A)):\n",
    "        if A[min_idx] > A[j]:\n",
    "            min_idx = j\n",
    "              \n",
    "    # Swap the found minimum element with \n",
    "    # the first element        \n",
    "    A[i], A[min_idx] = A[min_idx], A[i]\n",
    "  \n",
    "# Driver code to test above\n",
    "print (\"Sorted array\")\n",
    "for i in range(len(A)):\n",
    "    print(\"%d\" %A[i]),"
   ]
  },
  {
   "cell_type": "code",
   "execution_count": 42,
   "id": "184d26e0",
   "metadata": {},
   "outputs": [
    {
     "name": "stdout",
     "output_type": "stream",
     "text": [
      "The strings are anagrams.\n"
     ]
    }
   ],
   "source": [
    "# function to check if two strings are\n",
    "# anagram or not\n",
    "def check(s1, s2):\n",
    "     \n",
    "    # the sorted strings are checked\n",
    "    if(sorted(s1)== sorted(s2)):\n",
    "        print(\"The strings are anagrams.\")\n",
    "    else:\n",
    "        print(\"The strings aren't anagrams.\")        \n",
    "         \n",
    "# driver code \n",
    "s1 =\"listen\"\n",
    "s2 =\"silent\"\n",
    "check(s1, s2)"
   ]
  },
  {
   "cell_type": "code",
   "execution_count": 43,
   "id": "379e4d71",
   "metadata": {},
   "outputs": [
    {
     "name": "stdout",
     "output_type": "stream",
     "text": [
      "The strings are anagrams.\n"
     ]
    }
   ],
   "source": [
    "#Python3 program for implementation of checking string is anagram or not\n",
    "#using set function.\n",
    "\n",
    " \n",
    "def check(s1, s2):\n",
    " \n",
    "    # Asserting length of string\n",
    "    assert len(s1) == len(s2), 'The strings are not of same length'\n",
    "     \n",
    "    # Implementation of set function\n",
    "    if set(s1.lower()) == set(s2.lower()):\n",
    "      print(\"The strings are anagrams.\")\n",
    "    else:\n",
    "      print(\"The strings aren't anagrams.\")\n",
    "     \n",
    "    # one liner for above implemetation\n",
    "    # print('The strings are anagrams.') if set(s1.lower()) == set(s2.lower()) else print('The strings aren\\'t anagrams.')\n",
    "     \n",
    " \n",
    " \n",
    "#Driver code\n",
    "if __name__ == '__main__':\n",
    "    word1, word2 = 'listen', 'silent'\n",
    "    check(word1, word2)"
   ]
  },
  {
   "cell_type": "code",
   "execution_count": 44,
   "id": "f76bc14a",
   "metadata": {},
   "outputs": [
    {
     "name": "stdout",
     "output_type": "stream",
     "text": [
      "The original string  is : Geeksforgeeks\n",
      "The reversed string(using loops) is : skeegrofskeeG\n"
     ]
    }
   ],
   "source": [
    "# Python code to reverse a string \n",
    "# using loop\n",
    "  \n",
    "def reverse(s):\n",
    "  str = \"\"\n",
    "  for i in s:\n",
    "    str = i + str\n",
    "  return str\n",
    "  \n",
    "s = \"Geeksforgeeks\"\n",
    "  \n",
    "print (\"The original string  is : \",end=\"\")\n",
    "print (s)\n",
    "  \n",
    "print (\"The reversed string(using loops) is : \",end=\"\")\n",
    "print (reverse(s))"
   ]
  },
  {
   "cell_type": "code",
   "execution_count": 45,
   "id": "8d82b21e",
   "metadata": {},
   "outputs": [
    {
     "name": "stdout",
     "output_type": "stream",
     "text": [
      "The original string  is : Geeksforgeeks\n",
      "The reversed string(using extended slice syntax) is : skeegrofskeeG\n"
     ]
    }
   ],
   "source": [
    "# Python code to reverse a string \n",
    "# using extended slice syntax\n",
    "  \n",
    "# Function to reverse a string\n",
    "def reverse(string):\n",
    "    string = string[::-1]\n",
    "    return string\n",
    "  \n",
    "s = \"Geeksforgeeks\"\n",
    "  \n",
    "print (\"The original string  is : \",end=\"\")\n",
    "print (s)\n",
    "  \n",
    "print (\"The reversed string(using extended slice syntax) is : \",end=\"\")\n",
    "print (reverse(s))"
   ]
  },
  {
   "cell_type": "code",
   "execution_count": 46,
   "id": "cdcac6a3",
   "metadata": {},
   "outputs": [
    {
     "name": "stdout",
     "output_type": "stream",
     "text": [
      "The original string  is : Geeksforgeeks\n",
      "The reversed string(using reversed) is : skeegrofskeeG\n"
     ]
    }
   ],
   "source": [
    "# Python code to reverse a string \n",
    "# using reversed()\n",
    "  \n",
    "# Function to reverse a string\n",
    "def reverse(string):\n",
    "    string = \"\".join(reversed(string))\n",
    "    return string\n",
    "  \n",
    "s = \"Geeksforgeeks\"\n",
    "  \n",
    "print (\"The original string  is : \",end=\"\")\n",
    "print (s)\n",
    "  \n",
    "print (\"The reversed string(using reversed) is : \",end=\"\")\n",
    "print (reverse(s))"
   ]
  },
  {
   "cell_type": "code",
   "execution_count": null,
   "id": "587f3b10",
   "metadata": {},
   "outputs": [],
   "source": []
  }
 ],
 "metadata": {
  "kernelspec": {
   "display_name": "Python 3",
   "language": "python",
   "name": "python3"
  },
  "language_info": {
   "codemirror_mode": {
    "name": "ipython",
    "version": 3
   },
   "file_extension": ".py",
   "mimetype": "text/x-python",
   "name": "python",
   "nbconvert_exporter": "python",
   "pygments_lexer": "ipython3",
   "version": "3.8.10"
  }
 },
 "nbformat": 4,
 "nbformat_minor": 5
}
