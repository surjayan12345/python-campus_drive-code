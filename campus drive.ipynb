{
 "cells": [
  {
   "cell_type": "code",
   "execution_count": 2,
   "id": "6bb73aa0",
   "metadata": {},
   "outputs": [
    {
     "name": "stdout",
     "output_type": "stream",
     "text": [
      "Enter size array15\n",
      "enter element\n",
      "121\n",
      "343\n",
      "1122\n",
      "545\n",
      "9999\n",
      "Largest palindrome in the array is 9999\n"
     ]
    }
   ],
   "source": [
    "#Longest palindrome in an array\n",
    "\n",
    "def isPalindrome(n):\n",
    "    return(str(n)==str(n)[::-1])\n",
    "n=int(input(\"Enter size array1\"))\n",
    "arr1=[]\n",
    "print(\"enter element\")\n",
    "for i in range(n):\n",
    "    arr1.append(int(input()))\n",
    "arr1.sort(reverse=True)\n",
    "flag=1\n",
    "for i in arr1:\n",
    "    if isPalindrome(i):\n",
    "        print(\"Largest palindrome in the array is\",i)\n",
    "        flag=0\n",
    "        break \n",
    "if(flag):\n",
    "    print(\"There is no palindrome in the array\")"
   ]
  },
  {
   "cell_type": "code",
   "execution_count": 4,
   "id": "e8a34747",
   "metadata": {},
   "outputs": [
    {
     "name": "stdout",
     "output_type": "stream",
     "text": [
      "Enter the number of rows: 5\n",
      "1 \n",
      "2 3 \n",
      "4 5 6 \n",
      "7 8 9 10 \n",
      "11 12 13 14 15 \n"
     ]
    }
   ],
   "source": [
    "#Floyd’s Triangle\n",
    "#function to print floyd’s triangle\n",
    "def floydTriangle(n):\n",
    "    #count variable\n",
    "    c=0\n",
    "\n",
    "    #outer loop for each row\n",
    "\n",
    "    for i in range(1,n+1):\n",
    "\n",
    "        #inner loop for each elements in a particular row\n",
    "\n",
    "        for j in range(0,i):\n",
    "            c+=1\n",
    "\n",
    "            #print space seperated elements in  each row\n",
    "\n",
    "            print(c, end=\" \")\n",
    "\n",
    "        #prints new line for new row\n",
    "\n",
    "        print()\n",
    "\n",
    "            \n",
    "\n",
    "#input\n",
    "\n",
    "n=int(input(\"Enter the number of rows: \"))\n",
    "\n",
    "#function call\n",
    "\n",
    "floydTriangle(n)"
   ]
  },
  {
   "cell_type": "code",
   "execution_count": 6,
   "id": "e0c91a92",
   "metadata": {},
   "outputs": [
    {
     "name": "stdout",
     "output_type": "stream",
     "text": [
      "Enter size array14\n",
      "enter element\n",
      "1\n",
      "2\n",
      "3\n",
      "5\n",
      "Enter size array24\n",
      "enter element\n",
      "1\n",
      "2\n",
      "3\n",
      "5\n",
      "Both Arrays are same\n"
     ]
    }
   ],
   "source": [
    "#Check if two arrays are the same or not\n",
    "\n",
    "n=int(input(\"Enter size array1\"))\n",
    "arr1=[]\n",
    "print(\"enter element\")\n",
    "for i in range(n):\n",
    "    arr1.append(int(input()))\n",
    "m=int(input(\"Enter size array2\"))\n",
    "arr2=[]\n",
    "print(\"enter element\")\n",
    "for i in range(m):\n",
    "    arr2.append(int(input()))\n",
    "#sort both arrays\n",
    "arr1.sort()\n",
    "arr2.sort()\n",
    "if(n==m): \n",
    "    c=0\n",
    "    #check all the elements of two arrays are equal or not \n",
    "    #if equal increment the count else break from loop\n",
    "    for i in range(n):\n",
    "        if arr1[i]==arr2[i]:\n",
    "            c+=1 \n",
    "        else:\n",
    "            break\n",
    "    #if count of equal numbers is same as length of array \n",
    "    #then print arrays are same else not same\n",
    "    if(c==n):\n",
    "        print(\"Both Arrays are same\")\n",
    "    else:\n",
    "        print(\"Arrays are not same\")\n",
    "else:\n",
    "    print(\"Arrays are not same\")"
   ]
  },
  {
   "cell_type": "code",
   "execution_count": 10,
   "id": "42cc83fc",
   "metadata": {},
   "outputs": [
    {
     "name": "stdout",
     "output_type": "stream",
     "text": [
      "Enter size array1 5\n",
      "enter element\n",
      "1\n",
      "5\n",
      "9\n",
      "7\n",
      "5\n",
      "Enter size array2 6\n",
      "enter element\n",
      "1\n",
      "5\n",
      "9\n",
      "7\n",
      "5\n",
      "3\n",
      "Arrays are not same\n"
     ]
    }
   ],
   "source": [
    "#method 2 for checking the similarity\n",
    "\n",
    "n=int(input(\"Enter size array1 \"))\n",
    "arr1=[]\n",
    "print(\"enter element\")\n",
    "for i in range(n):\n",
    "    arr1.append(int(input()))\n",
    "m=int(input(\"Enter size array2 \"))\n",
    "arr2=[]\n",
    "print(\"enter element\")\n",
    "for i in range(m):\n",
    "    arr2.append(int(input()))\n",
    "arr1.sort()\n",
    "arr2.sort()\n",
    "if(arr1==arr2):\n",
    "    print(\"Both Arrays are same\")\n",
    "else:\n",
    "    print(\"Arrays are not same\")"
   ]
  },
  {
   "cell_type": "code",
   "execution_count": 12,
   "id": "0787abaf",
   "metadata": {},
   "outputs": [
    {
     "name": "stdout",
     "output_type": "stream",
     "text": [
      "ENTER ARRAY ELEMENTS 5 6 7 8 9\n",
      "ENTER NO.OF ROTATIONS 2\n",
      "ARRAY BEFORE ROTATION  5 6 7 8 9\n",
      "ARRAY AFTER ROTATION   8 9 5 6 7\n"
     ]
    }
   ],
   "source": [
    "#Python Code For Left Rotation\n",
    "\n",
    "a = list(map(int,input(\"ENTER ARRAY ELEMENTS \").split()))\n",
    "k = int(input(\"ENTER NO.OF ROTATIONS \"))\n",
    "print(\"ARRAY BEFORE ROTATION \",*a)\n",
    "k=k%len(a)\n",
    "for i in range(k):\n",
    "    x=a.pop(-1)\n",
    "    a.insert(0,x)\n",
    "print(\"ARRAY AFTER ROTATION  \",*a)"
   ]
  },
  {
   "cell_type": "code",
   "execution_count": 13,
   "id": "804960ef",
   "metadata": {},
   "outputs": [
    {
     "name": "stdout",
     "output_type": "stream",
     "text": [
      "ENTER ARRAY ELEMENTS 8 5 3 2 1 9\n",
      "ENTER NO.OF ROTATIONS 3\n",
      "ARRAY BEFORE ROTATION  8 5 3 2 1 9\n",
      "ARRAY AFTER ROTATION   2 1 9 8 5 3\n"
     ]
    }
   ],
   "source": [
    "#Python Code for right rotation\n",
    "\n",
    "a = list(map(int,input(\"ENTER ARRAY ELEMENTS \").split()))\n",
    "k = int(input(\"ENTER NO.OF ROTATIONS \"))\n",
    "print(\"ARRAY BEFORE ROTATION \",*a)\n",
    "k=k%len(a)\n",
    "for i in range(k):\n",
    "    x=a.pop(0)\n",
    "    a.append(x)\n",
    "print(\"ARRAY AFTER ROTATION  \",*a)"
   ]
  },
  {
   "cell_type": "code",
   "execution_count": 14,
   "id": "c538450b",
   "metadata": {},
   "outputs": [
    {
     "name": "stdout",
     "output_type": "stream",
     "text": [
      "ENTER ARRAY ELEMENTS 5 2 8 9 1\n",
      "8 9 1 5 2 \n"
     ]
    }
   ],
   "source": [
    "#Block swap algorithm for array rotation\n",
    "\n",
    "def leftRotate(arr, d, n):\n",
    "    leftRotateRec(arr, 0, d, n);\n",
    " \n",
    "def leftRotateRec(arr, i, d, n):\n",
    "    if (d == 0 or d == n):\n",
    "        return;\n",
    "    if (n - d == d):\n",
    "        swap(arr, i, n - d + i, d);\n",
    "        return;\n",
    "    if (d < n - d):\n",
    "        swap(arr, i, n - d + i, d);\n",
    "        leftRotateRec(arr, i, d, n - d);\n",
    "    else:\n",
    "        swap(arr, i, d, n - d);\n",
    "        leftRotateRec(arr, n - d + i, 2 * d - n, d); \n",
    "\n",
    "def printArray(arr, size):\n",
    "    for i in range(size):\n",
    "        print(arr[i], end = \" \");\n",
    "    print();\n",
    "\n",
    "def swap(arr, fi, si, d):\n",
    "    for i in range(d):\n",
    "        temp = arr[fi + i];\n",
    "        arr[fi + i] = arr[si + i];\n",
    "        arr[si + i] = temp;\n",
    "\n",
    "arr = list(map(int,input(\"ENTER ARRAY ELEMENTS \").split()))\n",
    "no_of_rotations=2\n",
    "leftRotate(arr, no_of_rotations, len(arr));\n",
    "printArray(arr, len(arr));"
   ]
  },
  {
   "cell_type": "code",
   "execution_count": 15,
   "id": "e0393d70",
   "metadata": {},
   "outputs": [
    {
     "name": "stdout",
     "output_type": "stream",
     "text": [
      "ENTER ARRAY ELEMENTS 1 8 9 3 2\n",
      "ENTER NO.OF ROTATIONS 2\n",
      "ARRAY BEFORE ROTATION  1 8 9 3 2\n",
      "ARRAY AFTER  ROTATION   3 2 1 8 9\n"
     ]
    }
   ],
   "source": [
    "#Circular rotation of an array by K position\n",
    "\n",
    "a=list(map(int,input(\"ENTER ARRAY ELEMENTS \").split()))\n",
    "k=int(input(\"ENTER NO.OF ROTATIONS \"))\n",
    "print(\"ARRAY BEFORE ROTATION \",*a)\n",
    "k=k%len(a)\n",
    "for i in range(k):\n",
    "    x=a.pop(-1)\n",
    "    a.insert(0,x)\n",
    "print(\"ARRAY AFTER  ROTATION  \",*a)"
   ]
  },
  {
   "cell_type": "code",
   "execution_count": 19,
   "id": "d719f16a",
   "metadata": {},
   "outputs": [
    {
     "name": "stdout",
     "output_type": "stream",
     "text": [
      "Enter array 1 :1 2 3 5 9\n",
      "Enter array 2 :5 9\n",
      "Array 2 is subset of Array 1\n"
     ]
    }
   ],
   "source": [
    "#Check whether array is subset of another array or not\n",
    "\n",
    "ar1=list(map(int,input(\"Enter array 1 :\").split()))\n",
    "ar2=list(map(int,input(\"Enter array 2 :\").split()))\n",
    "c=0\n",
    "x=len(ar2)\n",
    "for i in ar2:\n",
    "    if i in ar1:\n",
    "        c+=1\n",
    "if(c==x):\n",
    "    print(\"Array 2 is subset of Array 1\")\n",
    "else:\n",
    "    print(\"Array 2 is not subset of Array 1\")"
   ]
  },
  {
   "cell_type": "code",
   "execution_count": 21,
   "id": "957d443f",
   "metadata": {},
   "outputs": [
    {
     "name": "stdout",
     "output_type": "stream",
     "text": [
      "Enter array 1 : 2 8 6 4 2\n",
      "Enter array 2 : 8 6\n",
      "Array 2 is subset of Array 1\n"
     ]
    }
   ],
   "source": [
    "#union function\n",
    "\n",
    "ar1=set(map(int,input(\"Enter array 1 : \").split()))\n",
    "ar2=set(map(int,input(\"Enter array 2 : \").split()))\n",
    "if(ar1.union(ar2)==ar1):\n",
    "    print(\"Array 2 is subset of Array 1\")\n",
    "else:\n",
    "    print(\"Array 2 is not subset of Array 1\")"
   ]
  },
  {
   "cell_type": "code",
   "execution_count": 26,
   "id": "566665b4",
   "metadata": {},
   "outputs": [
    {
     "name": "stdout",
     "output_type": "stream",
     "text": [
      "Enter array 5 4 2 8 6\n",
      "Sum of minimum absolute difference of array is 8\n"
     ]
    }
   ],
   "source": [
    "#Sum of minimum absolute difference of array\n",
    "\n",
    "#To find minimum absolute difference of array we will take median of the given array and find out the absolute difference between median \n",
    "#and each element of array and add all together\n",
    "\n",
    "\n",
    "a=list(map(int,input(\"Enter array \").split()))\n",
    "a.sort()\n",
    "n=len(a)\n",
    "if(n%2==1):\n",
    "    me=a[n//2]\n",
    "else:\n",
    "    me=(a[n//2 - 1]+a[n//2] )/2\n",
    "z=0\n",
    "for i in a:\n",
    "    z+=abs(i-me)\n",
    "print(\"Sum of minimum absolute difference of array is\" ,end=\" \")\n",
    "print(z)"
   ]
  },
  {
   "cell_type": "code",
   "execution_count": 35,
   "id": "6e260bb6",
   "metadata": {},
   "outputs": [
    {
     "name": "stdout",
     "output_type": "stream",
     "text": [
      "Enter array 5 4 2 8 6\n",
      "Sum of minimum absolute difference of array is  8\n"
     ]
    }
   ],
   "source": [
    "#method 2\n",
    "\n",
    "import statistics\n",
    "#Syntax for reading space seperated integers\n",
    "a=list(map(int,input(\"Enter array \").split()))\n",
    "#statistics module has method for finding median\n",
    "me=statistics.median(a)\n",
    "z=0\n",
    "for i in a:\n",
    "    z += abs(i-me)\n",
    "print(\"Sum of minimum absolute difference of array is \",end=\" \")\n",
    "print(z)"
   ]
  },
  {
   "cell_type": "code",
   "execution_count": 37,
   "id": "a4a31eda",
   "metadata": {},
   "outputs": [
    {
     "name": "stdout",
     "output_type": "stream",
     "text": [
      "Enter array elements\n",
      "8 5 2 15 5 9 8 3 1 2 \n",
      "The repeating elements of array are :\n",
      "8 5 2 "
     ]
    }
   ],
   "source": [
    "#Repeating element of an aray\n",
    "\n",
    "print(\"Enter array elements\")\n",
    "\n",
    "#Syntax for reading space seperated integers\n",
    "\n",
    "l=list(map(int,input().split()))\n",
    "rl=[]\n",
    "for i in l:\n",
    "    if(l.count(i)>1 and i not in rl):\n",
    "        rl.append(i)\n",
    " \n",
    "\n",
    "print(\"The repeating elements of array are :\")\n",
    "for i in rl:\n",
    "    print(i,end=\" \")"
   ]
  },
  {
   "cell_type": "code",
   "execution_count": 40,
   "id": "e81faaf0",
   "metadata": {},
   "outputs": [
    {
     "name": "stdout",
     "output_type": "stream",
     "text": [
      "ENTER ARRAY SIZE 4\n",
      "Enter the array elements\n",
      "1\n",
      "2\n",
      "2\n",
      "1\n",
      "\n",
      " 1 occurs 2 time(s)\n",
      "\n",
      " 2 occurs 2 time(s)\n"
     ]
    }
   ],
   "source": [
    "#Finding the frequency of elements in an array using python\n",
    "\n",
    "n=int(input(\"ENTER ARRAY SIZE \"))\n",
    "\n",
    "arr=[]\n",
    "\n",
    "print(\"Enter the array elements\")\n",
    "\n",
    "for i in range(n):\n",
    "\n",
    "    arr.append(int(input()))\n",
    "\n",
    "x=list(dict.fromkeys(arr))\n",
    "\n",
    "for i in x:\n",
    "\n",
    "    print(\"\\n {} occurs {} time(s)\".format(i,arr.count(i)))"
   ]
  },
  {
   "cell_type": "code",
   "execution_count": 42,
   "id": "2eb719f6",
   "metadata": {},
   "outputs": [
    {
     "name": "stdout",
     "output_type": "stream",
     "text": [
      "Enter array :1 5 9 3 21 4 8 1\n",
      "Resultant array 1 3 5 9 21 8 4 1\n"
     ]
    }
   ],
   "source": [
    "#Sort first half array in ascending and second half in descending order\n",
    "\n",
    "\n",
    "a=list(map(int,input(\"Enter array :\").split()))\n",
    "x=[]\n",
    "y=[]\n",
    "n=len(a)\n",
    "for i in range(n//2):\n",
    "    x.append(a[i])\n",
    "for i in range(n//2,n):\n",
    "    y.append(a[i])\n",
    "x.sort()\n",
    "y.sort(reverse=True)\n",
    "print(\"Resultant array\",*(x+y))"
   ]
  },
  {
   "cell_type": "code",
   "execution_count": 45,
   "id": "514974ed",
   "metadata": {},
   "outputs": [
    {
     "name": "stdout",
     "output_type": "stream",
     "text": [
      "ENTER ARRAY SIZE :8\n",
      "1\n",
      "2\n",
      "1\n",
      "2\n",
      "4\n",
      "5\n",
      "6\n",
      "8\n",
      "4 5 6 8 "
     ]
    }
   ],
   "source": [
    "#non repeating element in array\n",
    "\n",
    "size=int(input(\"ENTER ARRAY SIZE :\"))\n",
    "arr=[ ]\n",
    "for i in range(size):\n",
    "    element=int(input())\n",
    "    arr.append(element)\n",
    "\n",
    "for i in set(arr):\n",
    "    if arr.count(i)==1:\n",
    "        print(i,end=\" \")"
   ]
  },
  {
   "cell_type": "code",
   "execution_count": 49,
   "id": "d9d5d0a3",
   "metadata": {},
   "outputs": [
    {
     "name": "stdout",
     "output_type": "stream",
     "text": [
      "Enter array1:1 2 3 5\n",
      "Enter array2: 2 8 5 2\n",
      "Minimum scalar product of two arrays is: 34\n"
     ]
    }
   ],
   "source": [
    "#Minimum scalar product of two vectors\n",
    "\n",
    "#Vector 1 – 2 3 1 4, Vector 2- 3 7 1 9\n",
    "#Sort Vector 1 in ascending order 1 2 3 4\n",
    "#Sort Vector 2 in descending order 9 7 3 1\n",
    "#Multiply the same index elements in both vectors -1*9+2*7+3*3+4*1=36\n",
    "#Minimum scalar product of two vectors=36\n",
    "\n",
    "\n",
    "\n",
    "#Syntax for reading space seperated integers\n",
    "l1=list(map(int,input(\"Enter array1:\").split()))\n",
    "l2=list(map(int,input(\"Enter array2:\").split()))\n",
    "#Sort in ascending order\n",
    "l1.sort()\n",
    "#Sort in descending order\n",
    "l2.sort(reverse=True)\n",
    "s=0\n",
    "for i in range(0,len(l1)):\n",
    "    for j in range(0,len(l2)):\n",
    "        if(i==j):\n",
    "            s+=l1[i]*l2[j]\n",
    "print(\"Minimum scalar product of two arrays is:\",end=\" \")\n",
    "print(s)"
   ]
  },
  {
   "cell_type": "code",
   "execution_count": 51,
   "id": "a2f0b41a",
   "metadata": {},
   "outputs": [
    {
     "name": "stdout",
     "output_type": "stream",
     "text": [
      "Enter the size of Array:3\n",
      "Enter the elements of First Array\n",
      "1 2 3\n",
      "Enter the elements of Second Array\n",
      "5 5 5\n",
      "Maximum scalar product of two vectors : 30\n"
     ]
    }
   ],
   "source": [
    "#function to calculate maximum scalar value\n",
    "\n",
    "\n",
    "def maxScalar(arr1,arr2, n):\n",
    "    sumVariable=0\n",
    "    for i in range(0,n):\n",
    "        sumVariable+=arr1[i]*arr2[i]\n",
    "    return sumVariable\n",
    "\n",
    "#inputs\n",
    "n=int(input(\"Enter the size of Array:\"))\n",
    "print(\"Enter the elements of First Array\")\n",
    "arr1=list(map(int,input().split()))\n",
    "print(\"Enter the elements of Second Array\")\n",
    "arr2=list(map(int,input().split()))\n",
    "\n",
    "#sort arrays in ascending order\n",
    "arr1.sort()\n",
    "arr2.sort()\n",
    "\n",
    "#print maximum scalar value of two arrays\n",
    "print(\"Maximum scalar product of two vectors :\", maxScalar(arr1,arr2,n))\n"
   ]
  },
  {
   "cell_type": "code",
   "execution_count": 52,
   "id": "582a9369",
   "metadata": {},
   "outputs": [
    {
     "name": "stdout",
     "output_type": "stream",
     "text": [
      "Enter array size :\n",
      "10\n",
      "1\n",
      "2\n",
      "5\n",
      "6\n",
      "9\n",
      "4\n",
      "6\n",
      "5\n",
      "2\n",
      "6\n",
      "Number of even elements\n",
      " 6\n",
      "Number of odd elements\n",
      " 4\n"
     ]
    }
   ],
   "source": [
    "#Count number of even and odd elements in an array\n",
    "\n",
    "n=int(input(\"Enter array size :\\n\"))\n",
    "arr=[]\n",
    "for i in range(n):\n",
    "    arr.append(int(input()))\n",
    "even_count,odd_count=0,0\n",
    "for i in arr:\n",
    "    if(i%2==0):\n",
    "        even_count+=1\n",
    "    else:\n",
    "        odd_count+=1\n",
    "print(\"Number of even elements\\n\",even_count)\n",
    "print(\"Number of odd elements\\n\",odd_count)"
   ]
  },
  {
   "cell_type": "code",
   "execution_count": 55,
   "id": "95f2314d",
   "metadata": {},
   "outputs": [
    {
     "name": "stdout",
     "output_type": "stream",
     "text": [
      "Enter range of number :50\n",
      "Enter exact number of divisors :4\n",
      "6 8 10 14 15 21 22 26 27 33 34 35 38 39 46 \n",
      "15\n"
     ]
    }
   ],
   "source": [
    "#Number of integers which has exactly x divisors\n",
    "\n",
    "#user inputs\n",
    "Number = int(input('Enter range of number :'))\n",
    "Divisor = int(input('Enter exact number of divisors :'))\n",
    "#count1 is to count total number of Numbers with exact divisor\n",
    "count1 = 0\n",
    "#driver loop\n",
    "for i in range(1,Number+1):\n",
    "    #count2 checks the total number of divisors\n",
    "    count2 = 0\n",
    "    #loop to find number of divisors\n",
    "    for j in range(1,i+1):\n",
    "        if i % j == 0:\n",
    "            count2+=1\n",
    "        else:\n",
    "            pass\n",
    "    if count2 == Divisor:\n",
    "        count1+=1\n",
    "        #end = \" \" is used so it can print Numbers in same line\n",
    "        print(i,end = \" \")\n",
    "#for break in line between Numbers and total count\n",
    "print('')\n",
    "print(count1)"
   ]
  },
  {
   "cell_type": "code",
   "execution_count": 56,
   "id": "cd50d0c8",
   "metadata": {},
   "outputs": [
    {
     "name": "stdout",
     "output_type": "stream",
     "text": [
      "Prime numbers between 1 to 100:\n",
      "2 3 5 7 11 13 17 19 23 29 31 37 41 43 47 53 59 61 67 71 73 79 83 89 97\n"
     ]
    }
   ],
   "source": [
    "#prime numbers betwwen 1-100\n",
    "\n",
    "#To find the prime numbers between 1 to 100 \n",
    "li=[] #list of prime numbers will be stored here \n",
    "for i in range(2,101):\n",
    "    f=0\n",
    "    for j in range(2,i+1):\n",
    "        if(i!=j and i%j==0): #if any n\n",
    "            f=1\n",
    "            break \n",
    "\n",
    "    if(f==0):\n",
    "        li.append(i)\n",
    "print(\"Prime numbers between 1 to 100:\")\n",
    "print(*li,sep=\" \")"
   ]
  },
  {
   "cell_type": "code",
   "execution_count": 57,
   "id": "ea53c09a",
   "metadata": {},
   "outputs": [
    {
     "name": "stdout",
     "output_type": "stream",
     "text": [
      "Enter the character :s\n",
      "115\n"
     ]
    }
   ],
   "source": [
    "#ASCII value\n",
    "\n",
    "#user input\n",
    "\n",
    "Char = input('Enter the character :')\n",
    "\n",
    "#convert Char to Ascii value by using a predefined ord() function\n",
    "\n",
    "Asciival = ord(Char)\n",
    "\n",
    "#print Value\n",
    "\n",
    "print(Asciival)"
   ]
  },
  {
   "cell_type": "code",
   "execution_count": 60,
   "id": "51291e10",
   "metadata": {},
   "outputs": [
    {
     "name": "stdout",
     "output_type": "stream",
     "text": [
      "Enter the Number :85211157\n",
      "Enter the digit :1\n",
      "Digit count is :3\n"
     ]
    }
   ],
   "source": [
    "#Python Program for occurrence of a Digit\n",
    "\n",
    "#take user inputs\n",
    "Number = int(input('Enter the Number :'))\n",
    "Digit = (int(input('Enter the digit :')))\n",
    "#initialize Strings\n",
    "String1 = str()\n",
    "String2 = str()\n",
    "#typecast int to str\n",
    "String1 = str(Number)\n",
    "String2 = str(Digit)\n",
    "#count and print the occurrence\n",
    "#Count function will return int value \n",
    "#so change it's type to string and concatenate it\n",
    "print(\"Digit count is :\" + str(String1.count(String2)))"
   ]
  },
  {
   "cell_type": "code",
   "execution_count": 62,
   "id": "b1342807",
   "metadata": {},
   "outputs": [
    {
     "name": "stdout",
     "output_type": "stream",
     "text": [
      "Enter value of a :1\n",
      "Enter value of b :4\n",
      "Enter value of c :2\n",
      "Two Real Roots\n",
      "-0.5857864376269049\n",
      "-3.414213562373095\n"
     ]
    }
   ],
   "source": [
    "#import math library\n",
    "import math\n",
    "#take user inputs\n",
    "a = int(input('Enter value of a :'))\n",
    "b = int(input('Enter value of b :'))\n",
    "c = int(input('Enter value of c :'))\n",
    "#check for value of a\n",
    "if a == 0: \n",
    "    print(\"a cannot be zero\") \n",
    "#if a is greater than 0\n",
    "else:\n",
    "    #calculate value of Function\n",
    "    val = b**2 - 4 * a * c \n",
    "    root = math.sqrt(abs(val)) \n",
    "    #Check for roots and print according to their nature\n",
    "    if val > 0: \n",
    "        print(\"Two Real Roots\") \n",
    "        print((-b + root)/(2 * a)) \n",
    "        print((-b - root)/(2 * a)) \n",
    "    elif val == 0: \n",
    "        print(\"One Real Root\") \n",
    "        print(-b / (2*a)) \n",
    "    else: \n",
    "        print(\"No Real Root\") \n",
    "        print(- b / (2*a) , \" + i\", root) \n",
    "        print(- b / (2*a) , \" - i\", root)"
   ]
  },
  {
   "cell_type": "code",
   "execution_count": 64,
   "id": "f258da60",
   "metadata": {},
   "outputs": [
    {
     "name": "stdout",
     "output_type": "stream",
     "text": [
      "Enter the number of students :9\n",
      "Enter the number of seats :7\n",
      "Total number of ways are :181440\n"
     ]
    }
   ],
   "source": [
    "#Python program to calculate number of ways in which N people can occupy R seats\n",
    "\n",
    "#import math lib\n",
    "import math\n",
    "#take user inputs\n",
    "N = int(input('Enter the number of students :'))\n",
    "R = int(input('Enter the number of seats :'))\n",
    "#factorial by using factorial() function\n",
    "nume = math.factorial(N)\n",
    "deno = math.factorial(N-R)\n",
    "#permutation = n! / (n-r)!\n",
    "no_of_ways = nume//deno\n",
    "#print total no of ways\n",
    "print('Total number of ways are :' + str(no_of_ways))"
   ]
  },
  {
   "cell_type": "code",
   "execution_count": 65,
   "id": "1c04bfd0",
   "metadata": {},
   "outputs": [
    {
     "name": "stdout",
     "output_type": "stream",
     "text": [
      "Enter number of people available :5\n",
      "Maximum number of handshakes can be :10\n"
     ]
    }
   ],
   "source": [
    "#take user inputs\n",
    "N = int(input('Enter number of people available :'))\n",
    "#formula\n",
    "no_of_handshakes = int(N *((N-1)/2))\n",
    "#print number of no_of_handshakes\n",
    "print('Maximum number of handshakes can be :' + str(no_of_handshakes))"
   ]
  },
  {
   "cell_type": "code",
   "execution_count": 66,
   "id": "5b9b6f94",
   "metadata": {},
   "outputs": [
    {
     "name": "stdout",
     "output_type": "stream",
     "text": [
      "Enter the Number:10\n",
      "Fibonacci Series: 0 1,1 2 3 5 8 13 21 34 \n"
     ]
    }
   ],
   "source": [
    "#fibonacci series\n",
    "\n",
    "num = int(input(\"Enter the Number:\"))\n",
    "n1, n2 = 0, 1\n",
    "print(\"Fibonacci Series:\", n1, n2, end=\",\")\n",
    "for i in range(2, num):\n",
    "    n3 = n1 + n2\n",
    "    n1 = n2\n",
    "    n2 = n3\n",
    "    print(n3, end=\" \")\n",
    "\n",
    "print()"
   ]
  },
  {
   "cell_type": "code",
   "execution_count": 67,
   "id": "c8d61efe",
   "metadata": {},
   "outputs": [
    {
     "name": "stdout",
     "output_type": "stream",
     "text": [
      "Enter first number:150\n",
      "Enter second number:159\n",
      "150 number is not Armstrong\n",
      "151 number is not Armstrong\n",
      "152 number is not Armstrong\n",
      "153 number is Armstrong\n",
      "154 number is not Armstrong\n",
      "155 number is not Armstrong\n",
      "156 number is not Armstrong\n",
      "157 number is not Armstrong\n",
      "158 number is not Armstrong\n",
      "159 number is not Armstrong\n"
     ]
    }
   ],
   "source": [
    "#Find Armstrong Numbers Between Two Intervals\n",
    "\n",
    "import math\n",
    "\n",
    "first = int(input(\"Enter first number:\"))\n",
    "second = int(input(\"Enter second number:\"))\n",
    "\n",
    "\n",
    "def is_Armstrong(val: int) -> bool:\n",
    "    sum = 0\n",
    "    arr = [int(d) for d in str(val)]\n",
    "    for i in range(0, len(arr)):\n",
    "        sum = sum + math.pow(arr[i], len(arr))\n",
    "    if sum == val:\n",
    "        print(\"{} number is Armstrong\".format(val))\n",
    "    else:\n",
    "        print(\"{} number is not Armstrong\".format(val))\n",
    "\n",
    "for i in range(first, second + 1):\n",
    "    is_Armstrong(i)"
   ]
  },
  {
   "cell_type": "code",
   "execution_count": 69,
   "id": "bafd3945",
   "metadata": {},
   "outputs": [
    {
     "name": "stdout",
     "output_type": "stream",
     "text": [
      "Enter any number60\n",
      "Harshad number\n"
     ]
    }
   ],
   "source": [
    "#HArshad number \n",
    "\n",
    "#n=408,\n",
    "#sum of digits of 408 = 12\n",
    "#408 is divisible by 12\n",
    "#408 is Harshad number\n",
    "\n",
    "n=int(input(\"Enter any number\"))\n",
    "p=n\n",
    "l=[]\n",
    "sum1=0\n",
    "while(n>0):\n",
    "    x=n%10\n",
    "    l.append(x)\n",
    "    n=n//10\n",
    "sum1=sum(l)\n",
    "if(p%sum1==0):\n",
    "    print(\"Harshad number\")\n",
    "else:\n",
    "    print(\"Not harshad number\")"
   ]
  },
  {
   "cell_type": "code",
   "execution_count": null,
   "id": "2c4a0e49",
   "metadata": {},
   "outputs": [],
   "source": []
  }
 ],
 "metadata": {
  "kernelspec": {
   "display_name": "Python 3",
   "language": "python",
   "name": "python3"
  },
  "language_info": {
   "codemirror_mode": {
    "name": "ipython",
    "version": 3
   },
   "file_extension": ".py",
   "mimetype": "text/x-python",
   "name": "python",
   "nbconvert_exporter": "python",
   "pygments_lexer": "ipython3",
   "version": "3.8.10"
  }
 },
 "nbformat": 4,
 "nbformat_minor": 5
}
